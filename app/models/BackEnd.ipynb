{
  "cells": [
    {
      "cell_type": "markdown",
      "metadata": {
        "id": "qC6DCKgFwnzv"
      },
      "source": [
        "\n",
        "\n",
        "Давайте поработаем с набором данных с платформы kaggle https://www.kaggle.com/datasets/kukuroo3/body-signal-of-smoking по определению того, курит человек или нет с помощью биосигналов.\n"
      ]
    },
    {
      "cell_type": "markdown",
      "metadata": {
        "id": "T6QfX1-79Lbd"
      },
      "source": [
        "# Step 1 - TRAIN"
      ]
    },
    {
      "cell_type": "markdown",
      "metadata": {
        "id": "cZy5NVQo9Of2"
      },
      "source": [
        "Обучение пайплайна\n",
        "\n",
        "    \n",
        "\n",
        "*   Загрузим данные https://www.kaggle.com/datasets/kukuroo3/body-signal-of-smoking\n",
        "*   Соберем пайплайн с простейшим препроцессингом на текстовых данных\n",
        "*   Обучим несколько моделей и выберем лучшую\n",
        "*   Обучим модель и сохраним на диск предобученный пайплайн\n",
        "\n",
        "    \n",
        "    \n"
      ]
    },
    {
      "cell_type": "code",
      "execution_count": 40,
      "metadata": {
        "id": "dcchtq7kwqVU",
        "colab": {
          "base_uri": "https://localhost:8080/"
        },
        "outputId": "a649bd08-a419-4aca-819f-902a0054be0e"
      },
      "outputs": [
        {
          "output_type": "stream",
          "name": "stdout",
          "text": [
            "Drive already mounted at /content/drive; to attempt to forcibly remount, call drive.mount(\"/content/drive\", force_remount=True).\n"
          ]
        }
      ],
      "source": [
        "import pandas as pd\n",
        "import dill\n",
        "import numpy as np\n",
        "from sklearn.model_selection import train_test_split\n",
        "from sklearn.base import BaseEstimator, TransformerMixin\n",
        "from sklearn.linear_model import LogisticRegression\n",
        "from sklearn.metrics import confusion_matrix, accuracy_score, classification_report\n",
        "from sklearn.metrics import roc_auc_score, roc_curve, precision_recall_curve\n",
        "from sklearn.metrics import f1_score\n",
        "\n",
        "#working with text\n",
        "from sklearn.feature_extraction.text import TfidfVectorizer\n",
        "\n",
        "#normalizing data\n",
        "from sklearn.preprocessing import StandardScaler\n",
        "\n",
        "#pipeline\n",
        "from sklearn.pipeline import Pipeline, FeatureUnion\n",
        "from sklearn.metrics import precision_score,recall_score\n",
        "\n",
        "#imputer\n",
        "from sklearn.impute import SimpleImputer\n",
        "\n",
        "import sklearn.datasets\n",
        "\n",
        "import itertools\n",
        "\n",
        "import matplotlib.pyplot as plt\n",
        "\n",
        "%matplotlib inline\n",
        "\n",
        "from google.colab import drive\n",
        "drive.mount('/content/drive')"
      ]
    },
    {
      "cell_type": "markdown",
      "metadata": {
        "id": "8n28UKwrxLvZ"
      },
      "source": [
        "Загрузим данные\n",
        "\n",
        "Ссылка на kaggle: https://www.kaggle.com/datasets/kukuroo3/body-signal-of-smoking\n"
      ]
    },
    {
      "cell_type": "code",
      "source": [
        "!pip install opendatasets"
      ],
      "metadata": {
        "colab": {
          "base_uri": "https://localhost:8080/"
        },
        "id": "8jfLV3gLKjKt",
        "outputId": "f4ab1552-cc0e-49a5-9dd6-007cf2f1ba6a"
      },
      "execution_count": 41,
      "outputs": [
        {
          "output_type": "stream",
          "name": "stdout",
          "text": [
            "Looking in indexes: https://pypi.org/simple, https://us-python.pkg.dev/colab-wheels/public/simple/\n",
            "Requirement already satisfied: opendatasets in /usr/local/lib/python3.7/dist-packages (0.1.22)\n",
            "Requirement already satisfied: click in /usr/local/lib/python3.7/dist-packages (from opendatasets) (7.1.2)\n",
            "Requirement already satisfied: kaggle in /usr/local/lib/python3.7/dist-packages (from opendatasets) (1.5.12)\n",
            "Requirement already satisfied: tqdm in /usr/local/lib/python3.7/dist-packages (from opendatasets) (4.64.0)\n",
            "Requirement already satisfied: python-dateutil in /usr/local/lib/python3.7/dist-packages (from kaggle->opendatasets) (2.8.2)\n",
            "Requirement already satisfied: requests in /usr/local/lib/python3.7/dist-packages (from kaggle->opendatasets) (2.23.0)\n",
            "Requirement already satisfied: six>=1.10 in /usr/local/lib/python3.7/dist-packages (from kaggle->opendatasets) (1.15.0)\n",
            "Requirement already satisfied: python-slugify in /usr/local/lib/python3.7/dist-packages (from kaggle->opendatasets) (6.1.2)\n",
            "Requirement already satisfied: urllib3 in /usr/local/lib/python3.7/dist-packages (from kaggle->opendatasets) (1.24.3)\n",
            "Requirement already satisfied: certifi in /usr/local/lib/python3.7/dist-packages (from kaggle->opendatasets) (2022.5.18.1)\n",
            "Requirement already satisfied: text-unidecode>=1.3 in /usr/local/lib/python3.7/dist-packages (from python-slugify->kaggle->opendatasets) (1.3)\n",
            "Requirement already satisfied: chardet<4,>=3.0.2 in /usr/local/lib/python3.7/dist-packages (from requests->kaggle->opendatasets) (3.0.4)\n",
            "Requirement already satisfied: idna<3,>=2.5 in /usr/local/lib/python3.7/dist-packages (from requests->kaggle->opendatasets) (2.10)\n"
          ]
        }
      ]
    },
    {
      "cell_type": "code",
      "execution_count": 42,
      "metadata": {
        "id": "Qf2Fn1e1zlOF"
      },
      "outputs": [],
      "source": [
        "import opendatasets as od"
      ]
    },
    {
      "cell_type": "code",
      "execution_count": 43,
      "metadata": {
        "id": "mTxai_7hzrgO",
        "colab": {
          "base_uri": "https://localhost:8080/"
        },
        "outputId": "01ddc10e-460c-453c-a5ee-a88db9d83f0a"
      },
      "outputs": [
        {
          "output_type": "stream",
          "name": "stdout",
          "text": [
            "Skipping, found downloaded files in \"./body-signal-of-smoking\" (use force=True to force download)\n"
          ]
        }
      ],
      "source": [
        "od.download(\"https://www.kaggle.com/datasets/kukuroo3/body-signal-of-smoking\")"
      ]
    },
    {
      "cell_type": "code",
      "execution_count": 44,
      "metadata": {
        "id": "Uv4ago4BGrtY",
        "colab": {
          "base_uri": "https://localhost:8080/",
          "height": 173
        },
        "outputId": "27bbad4b-8b4a-417f-99f8-fa3d78cb1682"
      },
      "outputs": [
        {
          "output_type": "execute_result",
          "data": {
            "text/plain": [
              "   ID gender  age  height(cm)  weight(kg)  waist(cm)  eyesight(left)  \\\n",
              "0   0      F   40         155          60       81.3             1.2   \n",
              "1   1      F   40         160          60       81.0             0.8   \n",
              "2   2      M   55         170          60       80.0             0.8   \n",
              "\n",
              "   eyesight(right)  hearing(left)  hearing(right)  ...  hemoglobin  \\\n",
              "0              1.0            1.0             1.0  ...        12.9   \n",
              "1              0.6            1.0             1.0  ...        12.7   \n",
              "2              0.8            1.0             1.0  ...        15.8   \n",
              "\n",
              "   Urine protein  serum creatinine   AST   ALT   Gtp  oral  dental caries  \\\n",
              "0            1.0               0.7  18.0  19.0  27.0     Y              0   \n",
              "1            1.0               0.6  22.0  19.0  18.0     Y              0   \n",
              "2            1.0               1.0  21.0  16.0  22.0     Y              0   \n",
              "\n",
              "   tartar  smoking  \n",
              "0       Y        0  \n",
              "1       Y        0  \n",
              "2       N        1  \n",
              "\n",
              "[3 rows x 27 columns]"
            ],
            "text/html": [
              "\n",
              "  <div id=\"df-fd91bee9-d39e-40aa-93b7-1712287689f6\">\n",
              "    <div class=\"colab-df-container\">\n",
              "      <div>\n",
              "<style scoped>\n",
              "    .dataframe tbody tr th:only-of-type {\n",
              "        vertical-align: middle;\n",
              "    }\n",
              "\n",
              "    .dataframe tbody tr th {\n",
              "        vertical-align: top;\n",
              "    }\n",
              "\n",
              "    .dataframe thead th {\n",
              "        text-align: right;\n",
              "    }\n",
              "</style>\n",
              "<table border=\"1\" class=\"dataframe\">\n",
              "  <thead>\n",
              "    <tr style=\"text-align: right;\">\n",
              "      <th></th>\n",
              "      <th>ID</th>\n",
              "      <th>gender</th>\n",
              "      <th>age</th>\n",
              "      <th>height(cm)</th>\n",
              "      <th>weight(kg)</th>\n",
              "      <th>waist(cm)</th>\n",
              "      <th>eyesight(left)</th>\n",
              "      <th>eyesight(right)</th>\n",
              "      <th>hearing(left)</th>\n",
              "      <th>hearing(right)</th>\n",
              "      <th>...</th>\n",
              "      <th>hemoglobin</th>\n",
              "      <th>Urine protein</th>\n",
              "      <th>serum creatinine</th>\n",
              "      <th>AST</th>\n",
              "      <th>ALT</th>\n",
              "      <th>Gtp</th>\n",
              "      <th>oral</th>\n",
              "      <th>dental caries</th>\n",
              "      <th>tartar</th>\n",
              "      <th>smoking</th>\n",
              "    </tr>\n",
              "  </thead>\n",
              "  <tbody>\n",
              "    <tr>\n",
              "      <th>0</th>\n",
              "      <td>0</td>\n",
              "      <td>F</td>\n",
              "      <td>40</td>\n",
              "      <td>155</td>\n",
              "      <td>60</td>\n",
              "      <td>81.3</td>\n",
              "      <td>1.2</td>\n",
              "      <td>1.0</td>\n",
              "      <td>1.0</td>\n",
              "      <td>1.0</td>\n",
              "      <td>...</td>\n",
              "      <td>12.9</td>\n",
              "      <td>1.0</td>\n",
              "      <td>0.7</td>\n",
              "      <td>18.0</td>\n",
              "      <td>19.0</td>\n",
              "      <td>27.0</td>\n",
              "      <td>Y</td>\n",
              "      <td>0</td>\n",
              "      <td>Y</td>\n",
              "      <td>0</td>\n",
              "    </tr>\n",
              "    <tr>\n",
              "      <th>1</th>\n",
              "      <td>1</td>\n",
              "      <td>F</td>\n",
              "      <td>40</td>\n",
              "      <td>160</td>\n",
              "      <td>60</td>\n",
              "      <td>81.0</td>\n",
              "      <td>0.8</td>\n",
              "      <td>0.6</td>\n",
              "      <td>1.0</td>\n",
              "      <td>1.0</td>\n",
              "      <td>...</td>\n",
              "      <td>12.7</td>\n",
              "      <td>1.0</td>\n",
              "      <td>0.6</td>\n",
              "      <td>22.0</td>\n",
              "      <td>19.0</td>\n",
              "      <td>18.0</td>\n",
              "      <td>Y</td>\n",
              "      <td>0</td>\n",
              "      <td>Y</td>\n",
              "      <td>0</td>\n",
              "    </tr>\n",
              "    <tr>\n",
              "      <th>2</th>\n",
              "      <td>2</td>\n",
              "      <td>M</td>\n",
              "      <td>55</td>\n",
              "      <td>170</td>\n",
              "      <td>60</td>\n",
              "      <td>80.0</td>\n",
              "      <td>0.8</td>\n",
              "      <td>0.8</td>\n",
              "      <td>1.0</td>\n",
              "      <td>1.0</td>\n",
              "      <td>...</td>\n",
              "      <td>15.8</td>\n",
              "      <td>1.0</td>\n",
              "      <td>1.0</td>\n",
              "      <td>21.0</td>\n",
              "      <td>16.0</td>\n",
              "      <td>22.0</td>\n",
              "      <td>Y</td>\n",
              "      <td>0</td>\n",
              "      <td>N</td>\n",
              "      <td>1</td>\n",
              "    </tr>\n",
              "  </tbody>\n",
              "</table>\n",
              "<p>3 rows × 27 columns</p>\n",
              "</div>\n",
              "      <button class=\"colab-df-convert\" onclick=\"convertToInteractive('df-fd91bee9-d39e-40aa-93b7-1712287689f6')\"\n",
              "              title=\"Convert this dataframe to an interactive table.\"\n",
              "              style=\"display:none;\">\n",
              "        \n",
              "  <svg xmlns=\"http://www.w3.org/2000/svg\" height=\"24px\"viewBox=\"0 0 24 24\"\n",
              "       width=\"24px\">\n",
              "    <path d=\"M0 0h24v24H0V0z\" fill=\"none\"/>\n",
              "    <path d=\"M18.56 5.44l.94 2.06.94-2.06 2.06-.94-2.06-.94-.94-2.06-.94 2.06-2.06.94zm-11 1L8.5 8.5l.94-2.06 2.06-.94-2.06-.94L8.5 2.5l-.94 2.06-2.06.94zm10 10l.94 2.06.94-2.06 2.06-.94-2.06-.94-.94-2.06-.94 2.06-2.06.94z\"/><path d=\"M17.41 7.96l-1.37-1.37c-.4-.4-.92-.59-1.43-.59-.52 0-1.04.2-1.43.59L10.3 9.45l-7.72 7.72c-.78.78-.78 2.05 0 2.83L4 21.41c.39.39.9.59 1.41.59.51 0 1.02-.2 1.41-.59l7.78-7.78 2.81-2.81c.8-.78.8-2.07 0-2.86zM5.41 20L4 18.59l7.72-7.72 1.47 1.35L5.41 20z\"/>\n",
              "  </svg>\n",
              "      </button>\n",
              "      \n",
              "  <style>\n",
              "    .colab-df-container {\n",
              "      display:flex;\n",
              "      flex-wrap:wrap;\n",
              "      gap: 12px;\n",
              "    }\n",
              "\n",
              "    .colab-df-convert {\n",
              "      background-color: #E8F0FE;\n",
              "      border: none;\n",
              "      border-radius: 50%;\n",
              "      cursor: pointer;\n",
              "      display: none;\n",
              "      fill: #1967D2;\n",
              "      height: 32px;\n",
              "      padding: 0 0 0 0;\n",
              "      width: 32px;\n",
              "    }\n",
              "\n",
              "    .colab-df-convert:hover {\n",
              "      background-color: #E2EBFA;\n",
              "      box-shadow: 0px 1px 2px rgba(60, 64, 67, 0.3), 0px 1px 3px 1px rgba(60, 64, 67, 0.15);\n",
              "      fill: #174EA6;\n",
              "    }\n",
              "\n",
              "    [theme=dark] .colab-df-convert {\n",
              "      background-color: #3B4455;\n",
              "      fill: #D2E3FC;\n",
              "    }\n",
              "\n",
              "    [theme=dark] .colab-df-convert:hover {\n",
              "      background-color: #434B5C;\n",
              "      box-shadow: 0px 1px 3px 1px rgba(0, 0, 0, 0.15);\n",
              "      filter: drop-shadow(0px 1px 2px rgba(0, 0, 0, 0.3));\n",
              "      fill: #FFFFFF;\n",
              "    }\n",
              "  </style>\n",
              "\n",
              "      <script>\n",
              "        const buttonEl =\n",
              "          document.querySelector('#df-fd91bee9-d39e-40aa-93b7-1712287689f6 button.colab-df-convert');\n",
              "        buttonEl.style.display =\n",
              "          google.colab.kernel.accessAllowed ? 'block' : 'none';\n",
              "\n",
              "        async function convertToInteractive(key) {\n",
              "          const element = document.querySelector('#df-fd91bee9-d39e-40aa-93b7-1712287689f6');\n",
              "          const dataTable =\n",
              "            await google.colab.kernel.invokeFunction('convertToInteractive',\n",
              "                                                     [key], {});\n",
              "          if (!dataTable) return;\n",
              "\n",
              "          const docLinkHtml = 'Like what you see? Visit the ' +\n",
              "            '<a target=\"_blank\" href=https://colab.research.google.com/notebooks/data_table.ipynb>data table notebook</a>'\n",
              "            + ' to learn more about interactive tables.';\n",
              "          element.innerHTML = '';\n",
              "          dataTable['output_type'] = 'display_data';\n",
              "          await google.colab.output.renderOutput(dataTable, element);\n",
              "          const docLink = document.createElement('div');\n",
              "          docLink.innerHTML = docLinkHtml;\n",
              "          element.appendChild(docLink);\n",
              "        }\n",
              "      </script>\n",
              "    </div>\n",
              "  </div>\n",
              "  "
            ]
          },
          "metadata": {},
          "execution_count": 44
        }
      ],
      "source": [
        "df = pd.read_csv(\"./body-signal-of-smoking/smoking.csv\")\n",
        "df.head(3)"
      ]
    },
    {
      "cell_type": "markdown",
      "metadata": {
        "id": "70YbcYaN0_ld"
      },
      "source": [
        "Мы видим ряд колонок\n",
        "\n",
        "    ID : index\n",
        "    gender\n",
        "    age : 5-years gap\n",
        "    height(cm)\n",
        "    weight(kg)\n",
        "    waist(cm) : Waist circumference length\n",
        "    eyesight(left)\n",
        "    eyesight(right)\n",
        "    hearing(left)\n",
        "    hearing(right)\n",
        "    systolic : Blood pressure\n",
        "    relaxation : Blood pressure\n",
        "    fasting blood sugar\n",
        "    Cholesterol : total\n",
        "    triglyceride\n",
        "    HDL : cholesterol type\n",
        "    LDL : cholesterol type\n",
        "    hemoglobin\n",
        "    Urine protein\n",
        "    serum creatinine\n",
        "    AST : glutamic oxaloacetic transaminase type\n",
        "    ALT : glutamic oxaloacetic transaminase type\n",
        "    Gtp : γ-GTP\n",
        "    oral : Oral Examination status\n",
        "    dental caries\n",
        "    tartar : tartar status\n",
        "    smoking\n"
      ]
    },
    {
      "cell_type": "markdown",
      "metadata": {
        "id": "nLe4F5D71eMQ"
      },
      "source": [
        "Есть как категориальные, так и вещественные признаки."
      ]
    },
    {
      "cell_type": "markdown",
      "metadata": {
        "id": "5w36emTE1h6b"
      },
      "source": [
        "Посмотрим на распределение классов:"
      ]
    },
    {
      "cell_type": "code",
      "execution_count": 45,
      "metadata": {
        "id": "WGpP1dPM1jmj",
        "colab": {
          "base_uri": "https://localhost:8080/"
        },
        "outputId": "604d037e-67c8-4435-bb91-d0d3780a9de3"
      },
      "outputs": [
        {
          "output_type": "execute_result",
          "data": {
            "text/plain": [
              "0    35237\n",
              "1    20455\n",
              "Name: smoking, dtype: int64"
            ]
          },
          "metadata": {},
          "execution_count": 45
        }
      ],
      "source": [
        "df['smoking'].value_counts()"
      ]
    },
    {
      "cell_type": "code",
      "execution_count": 46,
      "metadata": {
        "id": "hNTZy2l-pgTX"
      },
      "outputs": [],
      "source": [
        "df = df.rename(columns={\"height(cm)\": \"height\", \"weight(kg)\": \"weight\", \"waist(cm)\": \"waist\", \"eyesight(left)\": \"eyesight_left\", \"eyesight(right)\": \"eyesight_right\",\n",
        "                   \"hearing(left)\": \"hearing_left\", \"hearing(right)\": \"hearing_right\", \"fasting blood sugar\": \"fasting_blood_sugar\",\n",
        "                   \"Cholesterol\": \"cholesterol\", \"HDL\": \"hdl\", \"LDL\": \"ldl\", \"Urine protein\": \"urine_protein\", \n",
        "                   \"serum creatinine\": \"serum_creatinine\", \"AST\": \"ast\", \"ALT\": \"alt\", \"Gtp\": \"gtp\", \"dental caries\": \"dental_caries\"})"
      ]
    },
    {
      "cell_type": "markdown",
      "metadata": {
        "id": "cJYJ2zFB1pN3"
      },
      "source": [
        "Хорошее распределение (1 к 1,5)"
      ]
    },
    {
      "cell_type": "markdown",
      "metadata": {
        "id": "zR4mFQc51zmc"
      },
      "source": [
        "Давайте построим модель. Сразу же будем работать с использованием sklearn pipeline"
      ]
    },
    {
      "cell_type": "code",
      "execution_count": 47,
      "metadata": {
        "id": "GZlTKj2O1ysV"
      },
      "outputs": [],
      "source": [
        "#разделим данные на train/test\n",
        "X_train, X_test, y_train, y_test = train_test_split(df, df['smoking'], random_state=0)\n",
        "\n",
        "# save test\n",
        "X_test.to_csv(\"/content/drive/MyDrive/X_test.csv\", index=None)\n",
        "y_test.to_csv(\"/content/drive/MyDrive/y_test.csv\", index=None)\n",
        "\n",
        "# save train\n",
        "X_train.to_csv(\"/content/drive/MyDrive/X_train.csv\", index=None)\n",
        "y_train.to_csv(\"/content/drive/MyDrive/y_train.csv\", index=None)"
      ]
    },
    {
      "cell_type": "markdown",
      "metadata": {
        "id": "d81kRv-y1-wp"
      },
      "source": [
        "*   Категориальные признаки закодируем с помощью OneHotEncoding\n",
        "*   Вещественные оставим пока как есть \n",
        "\n"
      ]
    },
    {
      "cell_type": "code",
      "execution_count": 48,
      "metadata": {
        "id": "6-blwMfh2HFA"
      },
      "outputs": [],
      "source": [
        "#соберем наш простой pipeline, но нам понадобится написать класс для выбора нужного поля\n",
        "class FeatureSelector(BaseEstimator, TransformerMixin):\n",
        "    def __init__(self, column):\n",
        "        self.column = column\n",
        "\n",
        "    def fit(self, X, y=None):\n",
        "        return self\n",
        "\n",
        "    def transform(self, X, y=None):\n",
        "        return X[self.column]\n",
        "    \n",
        "\n",
        "class NumberSelector(BaseEstimator, TransformerMixin):\n",
        "    \"\"\"\n",
        "    Transformer to select a single column from the data frame to perform additional transformations on\n",
        "    Use on numeric columns in the data\n",
        "    \"\"\"\n",
        "    def __init__(self, key):\n",
        "        self.key = key\n",
        "\n",
        "    def fit(self, X, y=None):\n",
        "        return self\n",
        "\n",
        "    def transform(self, X):\n",
        "        return X[[self.key]]\n",
        "    \n",
        "    \n",
        "class OHEEncoder(BaseEstimator, TransformerMixin):\n",
        "    def __init__(self, key):\n",
        "        self.key = key\n",
        "        self.columns = []\n",
        "\n",
        "    def fit(self, X, y=None):\n",
        "        self.columns = [col for col in pd.get_dummies(X, prefix=self.key).columns]\n",
        "        return self\n",
        "\n",
        "    def transform(self, X):\n",
        "        X = pd.get_dummies(X, prefix=self.key)\n",
        "        test_columns = [col for col in X.columns]\n",
        "        \n",
        "        for col_ in self.columns:\n",
        "            if col_ not in test_columns:\n",
        "                X[col_] = 0\n",
        "        return X[self.columns]"
      ]
    },
    {
      "cell_type": "markdown",
      "metadata": {
        "id": "VEhUciqR2SnN"
      },
      "source": [
        "Зададим списки признаков"
      ]
    },
    {
      "cell_type": "code",
      "execution_count": 49,
      "metadata": {
        "id": "4I-GDuqH2giB"
      },
      "outputs": [],
      "source": [
        "categorical_columns = ['gender', 'oral', 'tartar', 'dental_caries']\n",
        "continuous_columns = ['age', 'height', 'weight', 'waist', 'eyesight_left', 'eyesight_right', 'hearing_left', 'hearing_right', 'systolic', 'relaxation', 'fasting_blood_sugar', \n",
        "                      'cholesterol', 'triglyceride', 'hdl', 'ldl', 'hemoglobin', 'urine_protein', 'serum_creatinine', 'ast', 'alt', 'gtp']"
      ]
    },
    {
      "cell_type": "markdown",
      "metadata": {
        "id": "V9XEc5Za6uY3"
      },
      "source": [
        "\n",
        "Теперь нам нужно под каждый признак создать трансформер и объединить их в список.\n"
      ]
    },
    {
      "cell_type": "code",
      "execution_count": 50,
      "metadata": {
        "id": "OCjVJPYK6x9e"
      },
      "outputs": [],
      "source": [
        "final_transformers = list()\n",
        "\n",
        "for cat_col in categorical_columns:\n",
        "    cat_transformer = Pipeline([\n",
        "                ('selector', FeatureSelector(column=cat_col)),\n",
        "                ('ohe', OHEEncoder(key=cat_col))\n",
        "            ])\n",
        "    \n",
        "    final_transformers.append((cat_col, cat_transformer))\n",
        "    \n",
        "for cont_col in continuous_columns:\n",
        "    cont_transformer = Pipeline([\n",
        "                ('selector', NumberSelector(key=cont_col)),\n",
        "                ('standard', StandardScaler())\n",
        "            ])\n",
        "    \n",
        "    final_transformers.append((cont_col, cont_transformer))"
      ]
    },
    {
      "cell_type": "markdown",
      "metadata": {
        "id": "t6oTkw006z4W"
      },
      "source": [
        "\n",
        "\n",
        "Объединим все это в единый пайплайн\n"
      ]
    },
    {
      "cell_type": "code",
      "execution_count": 51,
      "metadata": {
        "id": "zLMjBh-v62ak"
      },
      "outputs": [],
      "source": [
        "feats = FeatureUnion(final_transformers)\n",
        "\n",
        "feature_processing = Pipeline([('feats', feats)])"
      ]
    },
    {
      "cell_type": "markdown",
      "metadata": {
        "id": "-G_TGD8B76q5"
      },
      "source": [
        "Определим какая модель подойдет лучше всего для нашей задачи"
      ]
    },
    {
      "cell_type": "code",
      "execution_count": 52,
      "metadata": {
        "id": "7nCEcNgb8B87"
      },
      "outputs": [],
      "source": [
        "def plot_confusion_matrix(cm, classes,\n",
        "                          normalize=False,\n",
        "                          title='Confusion matrix',\n",
        "                          cmap=plt.cm.Blues):\n",
        "    \"\"\"\n",
        "    This function prints and plots the confusion matrix.\n",
        "    Normalization can be applied by setting `normalize=True`.\n",
        "    \"\"\"\n",
        "    plt.imshow(cm, interpolation='nearest', cmap=cmap)\n",
        "    plt.title(title)\n",
        "    plt.colorbar()\n",
        "    tick_marks = np.arange(len(classes))\n",
        "    plt.xticks(tick_marks, classes, rotation=45)\n",
        "    plt.yticks(tick_marks, classes)\n",
        "\n",
        "    if normalize:\n",
        "        cm = cm.astype('float') / cm.sum(axis=1)[:, np.newaxis]\n",
        "        print(\"Normalized confusion matrix\")\n",
        "    else:\n",
        "        print('Confusion matrix, without normalization')\n",
        "\n",
        "    print(cm)\n",
        "\n",
        "    thresh = cm.max() / 2.\n",
        "    for i, j in itertools.product(range(cm.shape[0]), range(cm.shape[1])):\n",
        "        plt.text(j, i, cm[i, j],\n",
        "                 horizontalalignment=\"center\",\n",
        "                 color=\"white\" if cm[i, j] > thresh else \"black\")\n",
        "\n",
        "    plt.tight_layout()\n",
        "    plt.ylabel('True label')\n",
        "    plt.xlabel('Predicted label')\n"
      ]
    },
    {
      "cell_type": "code",
      "execution_count": 53,
      "metadata": {
        "id": "v_Ffv_0b8FHl"
      },
      "outputs": [],
      "source": [
        "def training(classifier, classifier_name):\n",
        "    from sklearn.metrics import roc_auc_score\n",
        "\n",
        "    #обучим пайплайн на всем тренировочном датасете\n",
        "    classifier.fit(X_train, y_train)\n",
        "    y_score = classifier.predict_proba(X_test)[:, 1]\n",
        "    \n",
        "    # расчтаем метрики\n",
        "    b = 1\n",
        "    precision, recall, thresholds = precision_recall_curve(y_test.values, y_score)\n",
        "    fscore = (2 * precision * recall) / (precision + recall)\n",
        "    roc_auc_score = roc_auc_score(y_test, y_score)\n",
        "    ix = np.argmax(fscore)\n",
        "    cm = confusion_matrix(y_test, y_score>thresholds[ix])\n",
        "\n",
        "    # мы уже нашли ранее \"оптимальный\" порог, когда максимизировали f_score\n",
        "    font = {'size' : 15}\n",
        "    plt.rc('font', **font)\n",
        "    plt.figure(figsize=(6, 4))\n",
        "    plot_confusion_matrix(cm, classes=['NonChurn', 'Churn'], title=f'Confusion matrix for {classifier_name}')\n",
        "    # plt.savefig(\"conf_matrix.png\")\n",
        "    plt.show()\n",
        " \n",
        "    return [round(i, 3) for i in [thresholds[ix], fscore[ix], precision[ix], recall[ix], roc_auc_score, cm[1,1], cm[0,1], cm[0,0], cm[1,0]]]\n"
      ]
    },
    {
      "cell_type": "code",
      "source": [
        "!pip install xgboost"
      ],
      "metadata": {
        "id": "qVYpbj8UiPyQ",
        "colab": {
          "base_uri": "https://localhost:8080/"
        },
        "outputId": "fb20bd86-bee5-409f-bf9e-09556678f6e1"
      },
      "execution_count": 54,
      "outputs": [
        {
          "output_type": "stream",
          "name": "stdout",
          "text": [
            "Looking in indexes: https://pypi.org/simple, https://us-python.pkg.dev/colab-wheels/public/simple/\n",
            "Requirement already satisfied: xgboost in /usr/local/lib/python3.7/dist-packages (0.90)\n",
            "Requirement already satisfied: scipy in /usr/local/lib/python3.7/dist-packages (from xgboost) (1.4.1)\n",
            "Requirement already satisfied: numpy in /usr/local/lib/python3.7/dist-packages (from xgboost) (1.21.6)\n"
          ]
        }
      ]
    },
    {
      "cell_type": "code",
      "execution_count": 55,
      "metadata": {
        "id": "JkpPB18z8HRZ"
      },
      "outputs": [],
      "source": [
        "from sklearn.ensemble import RandomForestClassifier\n",
        "from sklearn.ensemble import GradientBoostingClassifier\n",
        "from sklearn.linear_model import LogisticRegression\n",
        "import xgboost as xgb\n"
      ]
    },
    {
      "cell_type": "code",
      "execution_count": 56,
      "metadata": {
        "id": "6G0NB18N8Jia",
        "colab": {
          "base_uri": "https://localhost:8080/",
          "height": 1000
        },
        "outputId": "1e7131ad-ca79-4047-ecc0-ed25e5ad4690"
      },
      "outputs": [
        {
          "output_type": "stream",
          "name": "stdout",
          "text": [
            "Confusion matrix, without normalization\n",
            "[[5689 3176]\n",
            " [ 552 4506]]\n"
          ]
        },
        {
          "output_type": "display_data",
          "data": {
            "text/plain": [
              "<Figure size 432x288 with 2 Axes>"
            ],
            "image/png": "[encoded data removed]"
          },
          "metadata": {
            "needs_background": "light"
          }
        },
        {
          "output_type": "stream",
          "name": "stdout",
          "text": [
            "Confusion matrix, without normalization\n",
            "[[6902 1963]\n",
            " [ 488 4570]]\n"
          ]
        },
        {
          "output_type": "display_data",
          "data": {
            "text/plain": [
              "<Figure size 432x288 with 2 Axes>"
            ],
            "image/png": "[encoded data removed]"
          },
          "metadata": {
            "needs_background": "light"
          }
        },
        {
          "output_type": "stream",
          "name": "stdout",
          "text": [
            "Confusion matrix, without normalization\n",
            "[[6179 2686]\n",
            " [ 723 4335]]\n"
          ]
        },
        {
          "output_type": "display_data",
          "data": {
            "text/plain": [
              "<Figure size 432x288 with 2 Axes>"
            ],
            "image/png": "[encoded data removed]"
          },
          "metadata": {
            "needs_background": "light"
          }
        },
        {
          "output_type": "stream",
          "name": "stdout",
          "text": [
            "Confusion matrix, without normalization\n",
            "[[6255 2610]\n",
            " [ 769 4289]]\n"
          ]
        },
        {
          "output_type": "display_data",
          "data": {
            "text/plain": [
              "<Figure size 432x288 with 2 Axes>"
            ],
            "image/png": "[encoded data removed]"
          },
          "metadata": {
            "needs_background": "light"
          }
        }
      ],
      "source": [
        "results = pd.DataFrame([\n",
        "    training(classifier=Pipeline([('features', feats), ('classifier', LogisticRegression(random_state=42))]), classifier_name='LogisticRegression'),\n",
        "    training(classifier=Pipeline([('features', feats), ('classifier', RandomForestClassifier(random_state=42))]), classifier_name='RandomForestClassifier'),\n",
        "    training(classifier=Pipeline([('features', feats), ('classifier', GradientBoostingClassifier(random_state=42))]), classifier_name='GradientBoostingClassifier'),\n",
        "    training(classifier=Pipeline([('features', feats), ('classifier', xgb.XGBClassifier(random_state=42, \n",
        "                                                                                        use_label_encoder=False, \n",
        "                                                                                        eval_metric='logloss'))]), classifier_name='XGBClassifier') \n",
        "], columns=['Best Threshold', 'F', 'Precision', 'Recall', 'ROC AUC', 'TP', 'FP', 'TN', 'FN'])\n",
        "\n",
        "results['models'] = ['LogisticRegression', 'RandomForestClassifier', 'GradientBoostingClassifier', 'XGBClassifier']\n",
        "results = results.set_index('models')\n"
      ]
    },
    {
      "cell_type": "code",
      "execution_count": 57,
      "metadata": {
        "id": "BPTc522N8i-k",
        "colab": {
          "base_uri": "https://localhost:8080/",
          "height": 206
        },
        "outputId": "6e1402e5-37ed-48b5-8768-2411173daad7"
      },
      "outputs": [
        {
          "output_type": "execute_result",
          "data": {
            "text/plain": [
              "                            Best Threshold      F  Precision  Recall  ROC AUC  \\\n",
              "models                                                                          \n",
              "LogisticRegression                   0.403  0.707      0.587   0.891    0.832   \n",
              "RandomForestClassifier               0.410  0.789      0.695   0.913    0.916   \n",
              "GradientBoostingClassifier           0.415  0.718      0.617   0.857    0.849   \n",
              "XGBClassifier                        0.431  0.718      0.622   0.848    0.849   \n",
              "\n",
              "                              TP    FP    TN   FN  \n",
              "models                                             \n",
              "LogisticRegression          4506  3176  5689  552  \n",
              "RandomForestClassifier      4570  1963  6902  488  \n",
              "GradientBoostingClassifier  4335  2686  6179  723  \n",
              "XGBClassifier               4289  2610  6255  769  "
            ],
            "text/html": [
              "\n",
              "  <div id=\"df-ab165c9a-1875-45e3-8516-a544bd6e548d\">\n",
              "    <div class=\"colab-df-container\">\n",
              "      <div>\n",
              "<style scoped>\n",
              "    .dataframe tbody tr th:only-of-type {\n",
              "        vertical-align: middle;\n",
              "    }\n",
              "\n",
              "    .dataframe tbody tr th {\n",
              "        vertical-align: top;\n",
              "    }\n",
              "\n",
              "    .dataframe thead th {\n",
              "        text-align: right;\n",
              "    }\n",
              "</style>\n",
              "<table border=\"1\" class=\"dataframe\">\n",
              "  <thead>\n",
              "    <tr style=\"text-align: right;\">\n",
              "      <th></th>\n",
              "      <th>Best Threshold</th>\n",
              "      <th>F</th>\n",
              "      <th>Precision</th>\n",
              "      <th>Recall</th>\n",
              "      <th>ROC AUC</th>\n",
              "      <th>TP</th>\n",
              "      <th>FP</th>\n",
              "      <th>TN</th>\n",
              "      <th>FN</th>\n",
              "    </tr>\n",
              "    <tr>\n",
              "      <th>models</th>\n",
              "      <th></th>\n",
              "      <th></th>\n",
              "      <th></th>\n",
              "      <th></th>\n",
              "      <th></th>\n",
              "      <th></th>\n",
              "      <th></th>\n",
              "      <th></th>\n",
              "      <th></th>\n",
              "    </tr>\n",
              "  </thead>\n",
              "  <tbody>\n",
              "    <tr>\n",
              "      <th>LogisticRegression</th>\n",
              "      <td>0.403</td>\n",
              "      <td>0.707</td>\n",
              "      <td>0.587</td>\n",
              "      <td>0.891</td>\n",
              "      <td>0.832</td>\n",
              "      <td>4506</td>\n",
              "      <td>3176</td>\n",
              "      <td>5689</td>\n",
              "      <td>552</td>\n",
              "    </tr>\n",
              "    <tr>\n",
              "      <th>RandomForestClassifier</th>\n",
              "      <td>0.410</td>\n",
              "      <td>0.789</td>\n",
              "      <td>0.695</td>\n",
              "      <td>0.913</td>\n",
              "      <td>0.916</td>\n",
              "      <td>4570</td>\n",
              "      <td>1963</td>\n",
              "      <td>6902</td>\n",
              "      <td>488</td>\n",
              "    </tr>\n",
              "    <tr>\n",
              "      <th>GradientBoostingClassifier</th>\n",
              "      <td>0.415</td>\n",
              "      <td>0.718</td>\n",
              "      <td>0.617</td>\n",
              "      <td>0.857</td>\n",
              "      <td>0.849</td>\n",
              "      <td>4335</td>\n",
              "      <td>2686</td>\n",
              "      <td>6179</td>\n",
              "      <td>723</td>\n",
              "    </tr>\n",
              "    <tr>\n",
              "      <th>XGBClassifier</th>\n",
              "      <td>0.431</td>\n",
              "      <td>0.718</td>\n",
              "      <td>0.622</td>\n",
              "      <td>0.848</td>\n",
              "      <td>0.849</td>\n",
              "      <td>4289</td>\n",
              "      <td>2610</td>\n",
              "      <td>6255</td>\n",
              "      <td>769</td>\n",
              "    </tr>\n",
              "  </tbody>\n",
              "</table>\n",
              "</div>\n",
              "      <button class=\"colab-df-convert\" onclick=\"convertToInteractive('df-ab165c9a-1875-45e3-8516-a544bd6e548d')\"\n",
              "              title=\"Convert this dataframe to an interactive table.\"\n",
              "              style=\"display:none;\">\n",
              "        \n",
              "  <svg xmlns=\"http://www.w3.org/2000/svg\" height=\"24px\"viewBox=\"0 0 24 24\"\n",
              "       width=\"24px\">\n",
              "    <path d=\"M0 0h24v24H0V0z\" fill=\"none\"/>\n",
              "    <path d=\"M18.56 5.44l.94 2.06.94-2.06 2.06-.94-2.06-.94-.94-2.06-.94 2.06-2.06.94zm-11 1L8.5 8.5l.94-2.06 2.06-.94-2.06-.94L8.5 2.5l-.94 2.06-2.06.94zm10 10l.94 2.06.94-2.06 2.06-.94-2.06-.94-.94-2.06-.94 2.06-2.06.94z\"/><path d=\"M17.41 7.96l-1.37-1.37c-.4-.4-.92-.59-1.43-.59-.52 0-1.04.2-1.43.59L10.3 9.45l-7.72 7.72c-.78.78-.78 2.05 0 2.83L4 21.41c.39.39.9.59 1.41.59.51 0 1.02-.2 1.41-.59l7.78-7.78 2.81-2.81c.8-.78.8-2.07 0-2.86zM5.41 20L4 18.59l7.72-7.72 1.47 1.35L5.41 20z\"/>\n",
              "  </svg>\n",
              "      </button>\n",
              "      \n",
              "  <style>\n",
              "    .colab-df-container {\n",
              "      display:flex;\n",
              "      flex-wrap:wrap;\n",
              "      gap: 12px;\n",
              "    }\n",
              "\n",
              "    .colab-df-convert {\n",
              "      background-color: #E8F0FE;\n",
              "      border: none;\n",
              "      border-radius: 50%;\n",
              "      cursor: pointer;\n",
              "      display: none;\n",
              "      fill: #1967D2;\n",
              "      height: 32px;\n",
              "      padding: 0 0 0 0;\n",
              "      width: 32px;\n",
              "    }\n",
              "\n",
              "    .colab-df-convert:hover {\n",
              "      background-color: #E2EBFA;\n",
              "      box-shadow: 0px 1px 2px rgba(60, 64, 67, 0.3), 0px 1px 3px 1px rgba(60, 64, 67, 0.15);\n",
              "      fill: #174EA6;\n",
              "    }\n",
              "\n",
              "    [theme=dark] .colab-df-convert {\n",
              "      background-color: #3B4455;\n",
              "      fill: #D2E3FC;\n",
              "    }\n",
              "\n",
              "    [theme=dark] .colab-df-convert:hover {\n",
              "      background-color: #434B5C;\n",
              "      box-shadow: 0px 1px 3px 1px rgba(0, 0, 0, 0.15);\n",
              "      filter: drop-shadow(0px 1px 2px rgba(0, 0, 0, 0.3));\n",
              "      fill: #FFFFFF;\n",
              "    }\n",
              "  </style>\n",
              "\n",
              "      <script>\n",
              "        const buttonEl =\n",
              "          document.querySelector('#df-ab165c9a-1875-45e3-8516-a544bd6e548d button.colab-df-convert');\n",
              "        buttonEl.style.display =\n",
              "          google.colab.kernel.accessAllowed ? 'block' : 'none';\n",
              "\n",
              "        async function convertToInteractive(key) {\n",
              "          const element = document.querySelector('#df-ab165c9a-1875-45e3-8516-a544bd6e548d');\n",
              "          const dataTable =\n",
              "            await google.colab.kernel.invokeFunction('convertToInteractive',\n",
              "                                                     [key], {});\n",
              "          if (!dataTable) return;\n",
              "\n",
              "          const docLinkHtml = 'Like what you see? Visit the ' +\n",
              "            '<a target=\"_blank\" href=https://colab.research.google.com/notebooks/data_table.ipynb>data table notebook</a>'\n",
              "            + ' to learn more about interactive tables.';\n",
              "          element.innerHTML = '';\n",
              "          dataTable['output_type'] = 'display_data';\n",
              "          await google.colab.output.renderOutput(dataTable, element);\n",
              "          const docLink = document.createElement('div');\n",
              "          docLink.innerHTML = docLinkHtml;\n",
              "          element.appendChild(docLink);\n",
              "        }\n",
              "      </script>\n",
              "    </div>\n",
              "  </div>\n",
              "  "
            ]
          },
          "metadata": {},
          "execution_count": 57
        }
      ],
      "source": [
        "results"
      ]
    },
    {
      "cell_type": "markdown",
      "metadata": {
        "id": "zxg7m7pc8tiD"
      },
      "source": [
        "Наиболее подходщая метрика это ROC AUC. Т.о. лучшая модель - RandomForestClassifier."
      ]
    },
    {
      "cell_type": "markdown",
      "metadata": {
        "id": "mO7SJ-M269KK"
      },
      "source": [
        "Добавим классификатор RandomForestClassifier"
      ]
    },
    {
      "cell_type": "code",
      "execution_count": 58,
      "metadata": {
        "id": "wYdJdbeg6_3N",
        "colab": {
          "base_uri": "https://localhost:8080/"
        },
        "outputId": "61eda802-d3a2-4f80-9c43-cccb6a1583ba"
      },
      "outputs": [
        {
          "output_type": "stream",
          "name": "stdout",
          "text": [
            "CPU times: user 12.3 s, sys: 43.2 ms, total: 12.3 s\n",
            "Wall time: 14.1 s\n"
          ]
        }
      ],
      "source": [
        "%%time\n",
        "\n",
        "pipeline = Pipeline([\n",
        "    ('features', feats),\n",
        "    ('classifier', RandomForestClassifier()),\n",
        "])\n",
        "\n",
        "pipeline.fit(X_train, y_train)"
      ]
    },
    {
      "cell_type": "markdown",
      "metadata": {
        "id": "MNulYfaL7EQB"
      },
      "source": [
        "Посмотрим, как выглядит наш pipeline"
      ]
    },
    {
      "cell_type": "code",
      "execution_count": 59,
      "metadata": {
        "id": "7I1Ll3a389gV",
        "colab": {
          "base_uri": "https://localhost:8080/"
        },
        "outputId": "f90ea5fd-8a80-40a1-f616-7693e693d2c4"
      },
      "outputs": [
        {
          "output_type": "execute_result",
          "data": {
            "text/plain": [
              "Pipeline(steps=[('features',\n",
              "                 FeatureUnion(transformer_list=[('gender',\n",
              "                                                 Pipeline(steps=[('selector',\n",
              "                                                                  FeatureSelector(column='gender')),\n",
              "                                                                 ('ohe',\n",
              "                                                                  OHEEncoder(key='gender'))])),\n",
              "                                                ('oral',\n",
              "                                                 Pipeline(steps=[('selector',\n",
              "                                                                  FeatureSelector(column='oral')),\n",
              "                                                                 ('ohe',\n",
              "                                                                  OHEEncoder(key='oral'))])),\n",
              "                                                ('tartar',\n",
              "                                                 Pipeline(steps=[('selector',\n",
              "                                                                  FeatureSelector(column='tartar')),\n",
              "                                                                 ('ohe',\n",
              "                                                                  OH...\n",
              "                                                                  StandardScaler())])),\n",
              "                                                ('ast',\n",
              "                                                 Pipeline(steps=[('selector',\n",
              "                                                                  NumberSelector(key='ast')),\n",
              "                                                                 ('standard',\n",
              "                                                                  StandardScaler())])),\n",
              "                                                ('alt',\n",
              "                                                 Pipeline(steps=[('selector',\n",
              "                                                                  NumberSelector(key='alt')),\n",
              "                                                                 ('standard',\n",
              "                                                                  StandardScaler())])),\n",
              "                                                ('gtp',\n",
              "                                                 Pipeline(steps=[('selector',\n",
              "                                                                  NumberSelector(key='gtp')),\n",
              "                                                                 ('standard',\n",
              "                                                                  StandardScaler())]))])),\n",
              "                ('classifier', RandomForestClassifier())])"
            ]
          },
          "metadata": {},
          "execution_count": 59
        }
      ],
      "source": [
        "pipeline"
      ]
    },
    {
      "cell_type": "markdown",
      "metadata": {
        "id": "QmFq3buc7Hvh"
      },
      "source": [
        "Сохраним модель (пайплайн)"
      ]
    },
    {
      "cell_type": "code",
      "execution_count": 60,
      "metadata": {
        "id": "__bJTUli7J9t"
      },
      "outputs": [],
      "source": [
        "with open(\"pipeline.dill\", \"wb\") as f:\n",
        "    dill.dump(pipeline, f)"
      ]
    },
    {
      "cell_type": "markdown",
      "metadata": {
        "id": "5Q7niqTg9nSs"
      },
      "source": [
        "# Step 2 - PREDICT"
      ]
    },
    {
      "cell_type": "markdown",
      "metadata": {
        "id": "vguK5HQN9tbK"
      },
      "source": [
        "### Проверка работоспособности и качества пайплайна\n",
        "\n",
        "Здесь мы еще не запускаем никакое API, а загружаем модель (pipeline) напрямую и проверяем на отложенной (тестовой) выборке"
      ]
    },
    {
      "cell_type": "code",
      "execution_count": 61,
      "metadata": {
        "id": "2cgm85Hp-mRg",
        "colab": {
          "base_uri": "https://localhost:8080/",
          "height": 173
        },
        "outputId": "94f939fb-ea05-467b-abf0-b97a0f42a1f8"
      },
      "outputs": [
        {
          "output_type": "execute_result",
          "data": {
            "text/plain": [
              "          ID gender  age  height  weight  waist  eyesight_left  \\\n",
              "35359  44185      M   60     155      55   77.0            1.0   \n",
              "22183  27703      M   40     175      85   90.7            1.2   \n",
              "32552  40647      M   25     170      80   94.0            1.5   \n",
              "\n",
              "       eyesight_right  hearing_left  hearing_right  ...  hemoglobin  \\\n",
              "35359             1.0           1.0            1.0  ...        14.7   \n",
              "22183             1.0           1.0            1.0  ...        16.9   \n",
              "32552             1.5           1.0            1.0  ...        14.6   \n",
              "\n",
              "       urine_protein  serum_creatinine   ast   alt    gtp  oral  \\\n",
              "35359            1.0               0.9  24.0  14.0   11.0     Y   \n",
              "22183            1.0               1.2  43.0  64.0  139.0     Y   \n",
              "32552            1.0               0.9  35.0  48.0   30.0     Y   \n",
              "\n",
              "       dental_caries  tartar  smoking  \n",
              "35359              0       Y        0  \n",
              "22183              0       Y        1  \n",
              "32552              0       N        0  \n",
              "\n",
              "[3 rows x 27 columns]"
            ],
            "text/html": [
              "\n",
              "  <div id=\"df-99f85789-4e75-4ae0-88fb-760a20f42a4c\">\n",
              "    <div class=\"colab-df-container\">\n",
              "      <div>\n",
              "<style scoped>\n",
              "    .dataframe tbody tr th:only-of-type {\n",
              "        vertical-align: middle;\n",
              "    }\n",
              "\n",
              "    .dataframe tbody tr th {\n",
              "        vertical-align: top;\n",
              "    }\n",
              "\n",
              "    .dataframe thead th {\n",
              "        text-align: right;\n",
              "    }\n",
              "</style>\n",
              "<table border=\"1\" class=\"dataframe\">\n",
              "  <thead>\n",
              "    <tr style=\"text-align: right;\">\n",
              "      <th></th>\n",
              "      <th>ID</th>\n",
              "      <th>gender</th>\n",
              "      <th>age</th>\n",
              "      <th>height</th>\n",
              "      <th>weight</th>\n",
              "      <th>waist</th>\n",
              "      <th>eyesight_left</th>\n",
              "      <th>eyesight_right</th>\n",
              "      <th>hearing_left</th>\n",
              "      <th>hearing_right</th>\n",
              "      <th>...</th>\n",
              "      <th>hemoglobin</th>\n",
              "      <th>urine_protein</th>\n",
              "      <th>serum_creatinine</th>\n",
              "      <th>ast</th>\n",
              "      <th>alt</th>\n",
              "      <th>gtp</th>\n",
              "      <th>oral</th>\n",
              "      <th>dental_caries</th>\n",
              "      <th>tartar</th>\n",
              "      <th>smoking</th>\n",
              "    </tr>\n",
              "  </thead>\n",
              "  <tbody>\n",
              "    <tr>\n",
              "      <th>35359</th>\n",
              "      <td>44185</td>\n",
              "      <td>M</td>\n",
              "      <td>60</td>\n",
              "      <td>155</td>\n",
              "      <td>55</td>\n",
              "      <td>77.0</td>\n",
              "      <td>1.0</td>\n",
              "      <td>1.0</td>\n",
              "      <td>1.0</td>\n",
              "      <td>1.0</td>\n",
              "      <td>...</td>\n",
              "      <td>14.7</td>\n",
              "      <td>1.0</td>\n",
              "      <td>0.9</td>\n",
              "      <td>24.0</td>\n",
              "      <td>14.0</td>\n",
              "      <td>11.0</td>\n",
              "      <td>Y</td>\n",
              "      <td>0</td>\n",
              "      <td>Y</td>\n",
              "      <td>0</td>\n",
              "    </tr>\n",
              "    <tr>\n",
              "      <th>22183</th>\n",
              "      <td>27703</td>\n",
              "      <td>M</td>\n",
              "      <td>40</td>\n",
              "      <td>175</td>\n",
              "      <td>85</td>\n",
              "      <td>90.7</td>\n",
              "      <td>1.2</td>\n",
              "      <td>1.0</td>\n",
              "      <td>1.0</td>\n",
              "      <td>1.0</td>\n",
              "      <td>...</td>\n",
              "      <td>16.9</td>\n",
              "      <td>1.0</td>\n",
              "      <td>1.2</td>\n",
              "      <td>43.0</td>\n",
              "      <td>64.0</td>\n",
              "      <td>139.0</td>\n",
              "      <td>Y</td>\n",
              "      <td>0</td>\n",
              "      <td>Y</td>\n",
              "      <td>1</td>\n",
              "    </tr>\n",
              "    <tr>\n",
              "      <th>32552</th>\n",
              "      <td>40647</td>\n",
              "      <td>M</td>\n",
              "      <td>25</td>\n",
              "      <td>170</td>\n",
              "      <td>80</td>\n",
              "      <td>94.0</td>\n",
              "      <td>1.5</td>\n",
              "      <td>1.5</td>\n",
              "      <td>1.0</td>\n",
              "      <td>1.0</td>\n",
              "      <td>...</td>\n",
              "      <td>14.6</td>\n",
              "      <td>1.0</td>\n",
              "      <td>0.9</td>\n",
              "      <td>35.0</td>\n",
              "      <td>48.0</td>\n",
              "      <td>30.0</td>\n",
              "      <td>Y</td>\n",
              "      <td>0</td>\n",
              "      <td>N</td>\n",
              "      <td>0</td>\n",
              "    </tr>\n",
              "  </tbody>\n",
              "</table>\n",
              "<p>3 rows × 27 columns</p>\n",
              "</div>\n",
              "      <button class=\"colab-df-convert\" onclick=\"convertToInteractive('df-99f85789-4e75-4ae0-88fb-760a20f42a4c')\"\n",
              "              title=\"Convert this dataframe to an interactive table.\"\n",
              "              style=\"display:none;\">\n",
              "        \n",
              "  <svg xmlns=\"http://www.w3.org/2000/svg\" height=\"24px\"viewBox=\"0 0 24 24\"\n",
              "       width=\"24px\">\n",
              "    <path d=\"M0 0h24v24H0V0z\" fill=\"none\"/>\n",
              "    <path d=\"M18.56 5.44l.94 2.06.94-2.06 2.06-.94-2.06-.94-.94-2.06-.94 2.06-2.06.94zm-11 1L8.5 8.5l.94-2.06 2.06-.94-2.06-.94L8.5 2.5l-.94 2.06-2.06.94zm10 10l.94 2.06.94-2.06 2.06-.94-2.06-.94-.94-2.06-.94 2.06-2.06.94z\"/><path d=\"M17.41 7.96l-1.37-1.37c-.4-.4-.92-.59-1.43-.59-.52 0-1.04.2-1.43.59L10.3 9.45l-7.72 7.72c-.78.78-.78 2.05 0 2.83L4 21.41c.39.39.9.59 1.41.59.51 0 1.02-.2 1.41-.59l7.78-7.78 2.81-2.81c.8-.78.8-2.07 0-2.86zM5.41 20L4 18.59l7.72-7.72 1.47 1.35L5.41 20z\"/>\n",
              "  </svg>\n",
              "      </button>\n",
              "      \n",
              "  <style>\n",
              "    .colab-df-container {\n",
              "      display:flex;\n",
              "      flex-wrap:wrap;\n",
              "      gap: 12px;\n",
              "    }\n",
              "\n",
              "    .colab-df-convert {\n",
              "      background-color: #E8F0FE;\n",
              "      border: none;\n",
              "      border-radius: 50%;\n",
              "      cursor: pointer;\n",
              "      display: none;\n",
              "      fill: #1967D2;\n",
              "      height: 32px;\n",
              "      padding: 0 0 0 0;\n",
              "      width: 32px;\n",
              "    }\n",
              "\n",
              "    .colab-df-convert:hover {\n",
              "      background-color: #E2EBFA;\n",
              "      box-shadow: 0px 1px 2px rgba(60, 64, 67, 0.3), 0px 1px 3px 1px rgba(60, 64, 67, 0.15);\n",
              "      fill: #174EA6;\n",
              "    }\n",
              "\n",
              "    [theme=dark] .colab-df-convert {\n",
              "      background-color: #3B4455;\n",
              "      fill: #D2E3FC;\n",
              "    }\n",
              "\n",
              "    [theme=dark] .colab-df-convert:hover {\n",
              "      background-color: #434B5C;\n",
              "      box-shadow: 0px 1px 3px 1px rgba(0, 0, 0, 0.15);\n",
              "      filter: drop-shadow(0px 1px 2px rgba(0, 0, 0, 0.3));\n",
              "      fill: #FFFFFF;\n",
              "    }\n",
              "  </style>\n",
              "\n",
              "      <script>\n",
              "        const buttonEl =\n",
              "          document.querySelector('#df-99f85789-4e75-4ae0-88fb-760a20f42a4c button.colab-df-convert');\n",
              "        buttonEl.style.display =\n",
              "          google.colab.kernel.accessAllowed ? 'block' : 'none';\n",
              "\n",
              "        async function convertToInteractive(key) {\n",
              "          const element = document.querySelector('#df-99f85789-4e75-4ae0-88fb-760a20f42a4c');\n",
              "          const dataTable =\n",
              "            await google.colab.kernel.invokeFunction('convertToInteractive',\n",
              "                                                     [key], {});\n",
              "          if (!dataTable) return;\n",
              "\n",
              "          const docLinkHtml = 'Like what you see? Visit the ' +\n",
              "            '<a target=\"_blank\" href=https://colab.research.google.com/notebooks/data_table.ipynb>data table notebook</a>'\n",
              "            + ' to learn more about interactive tables.';\n",
              "          element.innerHTML = '';\n",
              "          dataTable['output_type'] = 'display_data';\n",
              "          await google.colab.output.renderOutput(dataTable, element);\n",
              "          const docLink = document.createElement('div');\n",
              "          docLink.innerHTML = docLinkHtml;\n",
              "          element.appendChild(docLink);\n",
              "        }\n",
              "      </script>\n",
              "    </div>\n",
              "  </div>\n",
              "  "
            ]
          },
          "metadata": {},
          "execution_count": 61
        }
      ],
      "source": [
        "X_test.head(3)"
      ]
    },
    {
      "cell_type": "code",
      "execution_count": 62,
      "metadata": {
        "id": "kF-LFhZg-ojT"
      },
      "outputs": [],
      "source": [
        "with open('pipeline.dill', 'rb') as in_strm:\n",
        "    pipeline = dill.load(in_strm)"
      ]
    },
    {
      "cell_type": "code",
      "execution_count": 63,
      "metadata": {
        "id": "kcZpTV_x-q7y"
      },
      "outputs": [],
      "source": [
        "preds = pipeline.predict_proba(X_test)[:, 1]\n",
        "\n",
        "pred_df = pd.DataFrame({'preds': preds})\n",
        "pred_df.to_csv(\"test_predictions.csv\", index=None)"
      ]
    },
    {
      "cell_type": "code",
      "execution_count": 64,
      "metadata": {
        "id": "0d_Ar1eY-smb",
        "colab": {
          "base_uri": "https://localhost:8080/"
        },
        "outputId": "8c674404-e73a-4db2-d7b9-8742144806cd"
      },
      "outputs": [
        {
          "output_type": "execute_result",
          "data": {
            "text/plain": [
              "array([0.48, 0.8 , 0.43, 0.6 , 0.73, 0.01, 0.06, 0.19, 0.  , 0.03])"
            ]
          },
          "metadata": {},
          "execution_count": 64
        }
      ],
      "source": [
        "preds[:10]"
      ]
    },
    {
      "cell_type": "code",
      "execution_count": 65,
      "metadata": {
        "id": "Fytf2KXI-vOL",
        "colab": {
          "base_uri": "https://localhost:8080/"
        },
        "outputId": "587f7a11-1d8d-4705-b0be-89ff1fd1f47c"
      },
      "outputs": [
        {
          "output_type": "stream",
          "name": "stdout",
          "text": [
            "Best Threshold=0.43, F-Score=0.789, Precision=0.706, Recall=0.895\n"
          ]
        }
      ],
      "source": [
        "precision, recall, thresholds = precision_recall_curve(y_test, preds)\n",
        "\n",
        "fscore = (2 * precision * recall) / (precision + recall)\n",
        "# locate the index of the largest f score\n",
        "ix = np.argmax(fscore)\n",
        "print(f'Best Threshold={thresholds[ix]}, F-Score={fscore[ix]:.3f}, Precision={precision[ix]:.3f}, Recall={recall[ix]:.3f}')"
      ]
    },
    {
      "cell_type": "markdown",
      "metadata": {
        "id": "nTJKJDSWBeuN"
      },
      "source": [
        "# Step 3 - FLASK"
      ]
    },
    {
      "cell_type": "markdown",
      "metadata": {
        "id": "dHVWIQR9BjhB"
      },
      "source": [
        "## Flask\n",
        "\n",
        "Тут будет сервис для обработки запросов на Flask"
      ]
    },
    {
      "cell_type": "markdown",
      "metadata": {
        "id": "CoxLmfFlBnDV"
      },
      "source": [
        "Google Colab предоставляет виртуальную машину, поэтому мы не можем получить доступ к локальному хосту, как это делаем на нашем локальном компьютере при запуске локального веб-сервера. Что мы можем сделать, так это предоставить его общедоступному URL-адресу с помощью ngrok.\n",
        "\n",
        "https://medium.com/@kshitijvijay271199/flask-on-google-colab-f6525986797b\n"
      ]
    },
    {
      "cell_type": "code",
      "execution_count": 66,
      "metadata": {
        "id": "tmIVJFYNBpgS",
        "colab": {
          "base_uri": "https://localhost:8080/"
        },
        "outputId": "e8d8201f-b0ab-4af2-e9e2-a1d48b070fe0"
      },
      "outputs": [
        {
          "output_type": "stream",
          "name": "stdout",
          "text": [
            "Looking in indexes: https://pypi.org/simple, https://us-python.pkg.dev/colab-wheels/public/simple/\n",
            "Requirement already satisfied: flask-ngrok in /usr/local/lib/python3.7/dist-packages (0.0.25)\n",
            "Requirement already satisfied: Flask>=0.8 in /usr/local/lib/python3.7/dist-packages (from flask-ngrok) (1.1.4)\n",
            "Requirement already satisfied: requests in /usr/local/lib/python3.7/dist-packages (from flask-ngrok) (2.23.0)\n",
            "Requirement already satisfied: Jinja2<3.0,>=2.10.1 in /usr/local/lib/python3.7/dist-packages (from Flask>=0.8->flask-ngrok) (2.11.3)\n",
            "Requirement already satisfied: Werkzeug<2.0,>=0.15 in /usr/local/lib/python3.7/dist-packages (from Flask>=0.8->flask-ngrok) (1.0.1)\n",
            "Requirement already satisfied: click<8.0,>=5.1 in /usr/local/lib/python3.7/dist-packages (from Flask>=0.8->flask-ngrok) (7.1.2)\n",
            "Requirement already satisfied: itsdangerous<2.0,>=0.24 in /usr/local/lib/python3.7/dist-packages (from Flask>=0.8->flask-ngrok) (1.1.0)\n",
            "Requirement already satisfied: MarkupSafe>=0.23 in /usr/local/lib/python3.7/dist-packages (from Jinja2<3.0,>=2.10.1->Flask>=0.8->flask-ngrok) (2.0.1)\n",
            "Requirement already satisfied: urllib3!=1.25.0,!=1.25.1,<1.26,>=1.21.1 in /usr/local/lib/python3.7/dist-packages (from requests->flask-ngrok) (1.24.3)\n",
            "Requirement already satisfied: certifi>=2017.4.17 in /usr/local/lib/python3.7/dist-packages (from requests->flask-ngrok) (2022.5.18.1)\n",
            "Requirement already satisfied: chardet<4,>=3.0.2 in /usr/local/lib/python3.7/dist-packages (from requests->flask-ngrok) (3.0.4)\n",
            "Requirement already satisfied: idna<3,>=2.5 in /usr/local/lib/python3.7/dist-packages (from requests->flask-ngrok) (2.10)\n"
          ]
        }
      ],
      "source": [
        "!pip install flask-ngrok"
      ]
    },
    {
      "cell_type": "code",
      "execution_count": 67,
      "metadata": {
        "id": "4W1FsCq8BtWM"
      },
      "outputs": [],
      "source": [
        "from flask_ngrok import run_with_ngrok\n",
        "from flask import Flask, request, jsonify\n",
        "import pandas as pd"
      ]
    },
    {
      "cell_type": "code",
      "execution_count": 68,
      "metadata": {
        "id": "_7tZ1QRfBvTe",
        "colab": {
          "base_uri": "https://localhost:8080/"
        },
        "outputId": "64b83827-c7bc-40fb-f018-737d47775b59"
      },
      "outputs": [
        {
          "output_type": "stream",
          "name": "stdout",
          "text": [
            "--2022-06-01 09:26:25--  https://bin.equinox.io/c/4VmDzA7iaHb/ngrok-stable-linux-amd64.tgz\n",
            "Resolving bin.equinox.io (bin.equinox.io)... 54.161.241.46, 18.205.222.128, 54.237.133.81, ...\n",
            "Connecting to bin.equinox.io (bin.equinox.io)|54.161.241.46|:443... connected.\n",
            "HTTP request sent, awaiting response... 200 OK\n",
            "Length: 13770165 (13M) [application/octet-stream]\n",
            "Saving to: ‘ngrok-stable-linux-amd64.tgz.1’\n",
            "\n",
            "k-stable-linux-amd6   5%[>                   ] 766.22K   176KB/s    eta 98s    ^C\n",
            "ngrok\n",
            "Authtoken saved to configuration file: /root/.ngrok2/ngrok.yml\n"
          ]
        }
      ],
      "source": [
        "!wget https://bin.equinox.io/c/4VmDzA7iaHb/ngrok-stable-linux-amd64.tgz\n",
        "!tar -xvf /content/ngrok-stable-linux-amd64.tgz\n",
        "!./ngrok authtoken 25vEpcJ5Ih4vlUp4thEZ9sEA6ZU_3Bnu17gKacRXhF6hLeefc\n",
        "!./ngrok http 80"
      ]
    },
    {
      "cell_type": "code",
      "execution_count": 69,
      "metadata": {
        "id": "jN4ennXuCOH9"
      },
      "outputs": [],
      "source": [
        "import pandas as pd\n",
        "import dill"
      ]
    },
    {
      "cell_type": "markdown",
      "metadata": {
        "id": "G892ddiYCQhV"
      },
      "source": [
        "### **Создаем сервис для обработки запросов к модели**\n"
      ]
    },
    {
      "cell_type": "code",
      "execution_count": 70,
      "metadata": {
        "id": "iaC2N_n9CVgq"
      },
      "outputs": [],
      "source": [
        "# Загружаем обученные модели\n",
        "with open('pipeline.dill', 'rb') as in_strm:\n",
        "    model = dill.load(in_strm)"
      ]
    },
    {
      "cell_type": "markdown",
      "metadata": {
        "id": "Nyc9lu1aCa5O"
      },
      "source": [
        "Запустить сервис и не глушить его, пока работаем "
      ]
    },
    {
      "cell_type": "code",
      "execution_count": 71,
      "metadata": {
        "id": "1H7fb4uVCfDC",
        "colab": {
          "base_uri": "https://localhost:8080/"
        },
        "outputId": "0d124a1c-d17a-4e19-f7fb-1d0ff44d4fb5"
      },
      "outputs": [
        {
          "output_type": "stream",
          "name": "stdout",
          "text": [
            " * Serving Flask app \"__main__\" (lazy loading)\n",
            " * Environment: production\n",
            "\u001b[31m   WARNING: This is a development server. Do not use it in a production deployment.\u001b[0m\n",
            "\u001b[2m   Use a production WSGI server instead.\u001b[0m\n",
            " * Debug mode: off\n"
          ]
        },
        {
          "output_type": "stream",
          "name": "stderr",
          "text": [
            " * Running on http://127.0.0.1:5000/ (Press CTRL+C to quit)\n"
          ]
        },
        {
          "output_type": "stream",
          "name": "stdout",
          "text": [
            " * Running on http://7fa2-35-236-155-186.ngrok.io\n",
            " * Traffic stats available on http://127.0.0.1:4040\n"
          ]
        },
        {
          "output_type": "stream",
          "name": "stderr",
          "text": [
            "127.0.0.1 - - [01/Jun/2022 09:27:25] \"\u001b[37mPOST /predict HTTP/1.1\u001b[0m\" 200 -\n",
            "127.0.0.1 - - [01/Jun/2022 09:27:27] \"\u001b[37mPOST /predict HTTP/1.1\u001b[0m\" 200 -\n",
            "127.0.0.1 - - [01/Jun/2022 09:27:28] \"\u001b[37mPOST /predict HTTP/1.1\u001b[0m\" 200 -\n",
            "127.0.0.1 - - [01/Jun/2022 09:27:28] \"\u001b[37mPOST /predict HTTP/1.1\u001b[0m\" 200 -\n",
            "127.0.0.1 - - [01/Jun/2022 09:27:29] \"\u001b[37mPOST /predict HTTP/1.1\u001b[0m\" 200 -\n",
            "127.0.0.1 - - [01/Jun/2022 09:27:29] \"\u001b[37mPOST /predict HTTP/1.1\u001b[0m\" 200 -\n",
            "127.0.0.1 - - [01/Jun/2022 09:27:29] \"\u001b[37mPOST /predict HTTP/1.1\u001b[0m\" 200 -\n",
            "127.0.0.1 - - [01/Jun/2022 09:27:30] \"\u001b[37mPOST /predict HTTP/1.1\u001b[0m\" 200 -\n",
            "127.0.0.1 - - [01/Jun/2022 09:27:30] \"\u001b[37mPOST /predict HTTP/1.1\u001b[0m\" 200 -\n",
            "127.0.0.1 - - [01/Jun/2022 09:27:31] \"\u001b[37mPOST /predict HTTP/1.1\u001b[0m\" 200 -\n",
            "127.0.0.1 - - [01/Jun/2022 09:27:31] \"\u001b[37mPOST /predict HTTP/1.1\u001b[0m\" 200 -\n",
            "127.0.0.1 - - [01/Jun/2022 09:27:31] \"\u001b[37mPOST /predict HTTP/1.1\u001b[0m\" 200 -\n",
            "127.0.0.1 - - [01/Jun/2022 09:27:32] \"\u001b[37mPOST /predict HTTP/1.1\u001b[0m\" 200 -\n",
            "127.0.0.1 - - [01/Jun/2022 09:27:32] \"\u001b[37mPOST /predict HTTP/1.1\u001b[0m\" 200 -\n",
            "127.0.0.1 - - [01/Jun/2022 09:27:32] \"\u001b[37mPOST /predict HTTP/1.1\u001b[0m\" 200 -\n",
            "127.0.0.1 - - [01/Jun/2022 09:27:33] \"\u001b[37mPOST /predict HTTP/1.1\u001b[0m\" 200 -\n",
            "127.0.0.1 - - [01/Jun/2022 09:27:33] \"\u001b[37mPOST /predict HTTP/1.1\u001b[0m\" 200 -\n",
            "127.0.0.1 - - [01/Jun/2022 09:27:34] \"\u001b[37mPOST /predict HTTP/1.1\u001b[0m\" 200 -\n",
            "127.0.0.1 - - [01/Jun/2022 09:27:34] \"\u001b[37mPOST /predict HTTP/1.1\u001b[0m\" 200 -\n",
            "127.0.0.1 - - [01/Jun/2022 09:27:34] \"\u001b[37mPOST /predict HTTP/1.1\u001b[0m\" 200 -\n",
            "127.0.0.1 - - [01/Jun/2022 09:27:35] \"\u001b[37mPOST /predict HTTP/1.1\u001b[0m\" 200 -\n",
            "127.0.0.1 - - [01/Jun/2022 09:27:35] \"\u001b[37mPOST /predict HTTP/1.1\u001b[0m\" 200 -\n",
            "127.0.0.1 - - [01/Jun/2022 09:27:36] \"\u001b[37mPOST /predict HTTP/1.1\u001b[0m\" 200 -\n",
            "127.0.0.1 - - [01/Jun/2022 09:27:36] \"\u001b[37mPOST /predict HTTP/1.1\u001b[0m\" 200 -\n",
            "127.0.0.1 - - [01/Jun/2022 09:27:36] \"\u001b[37mPOST /predict HTTP/1.1\u001b[0m\" 200 -\n",
            "127.0.0.1 - - [01/Jun/2022 09:27:37] \"\u001b[37mPOST /predict HTTP/1.1\u001b[0m\" 200 -\n",
            "127.0.0.1 - - [01/Jun/2022 09:27:37] \"\u001b[37mPOST /predict HTTP/1.1\u001b[0m\" 200 -\n",
            "127.0.0.1 - - [01/Jun/2022 09:27:38] \"\u001b[37mPOST /predict HTTP/1.1\u001b[0m\" 200 -\n",
            "127.0.0.1 - - [01/Jun/2022 09:27:38] \"\u001b[37mPOST /predict HTTP/1.1\u001b[0m\" 200 -\n",
            "127.0.0.1 - - [01/Jun/2022 09:27:38] \"\u001b[37mPOST /predict HTTP/1.1\u001b[0m\" 200 -\n",
            "127.0.0.1 - - [01/Jun/2022 09:27:39] \"\u001b[37mPOST /predict HTTP/1.1\u001b[0m\" 200 -\n",
            "127.0.0.1 - - [01/Jun/2022 09:27:39] \"\u001b[37mPOST /predict HTTP/1.1\u001b[0m\" 200 -\n",
            "127.0.0.1 - - [01/Jun/2022 09:27:39] \"\u001b[37mPOST /predict HTTP/1.1\u001b[0m\" 200 -\n",
            "127.0.0.1 - - [01/Jun/2022 09:27:40] \"\u001b[37mPOST /predict HTTP/1.1\u001b[0m\" 200 -\n",
            "127.0.0.1 - - [01/Jun/2022 09:27:40] \"\u001b[37mPOST /predict HTTP/1.1\u001b[0m\" 200 -\n",
            "127.0.0.1 - - [01/Jun/2022 09:27:41] \"\u001b[37mPOST /predict HTTP/1.1\u001b[0m\" 200 -\n",
            "127.0.0.1 - - [01/Jun/2022 09:27:41] \"\u001b[37mPOST /predict HTTP/1.1\u001b[0m\" 200 -\n",
            "127.0.0.1 - - [01/Jun/2022 09:27:41] \"\u001b[37mPOST /predict HTTP/1.1\u001b[0m\" 200 -\n",
            "127.0.0.1 - - [01/Jun/2022 09:27:42] \"\u001b[37mPOST /predict HTTP/1.1\u001b[0m\" 200 -\n",
            "127.0.0.1 - - [01/Jun/2022 09:27:42] \"\u001b[37mPOST /predict HTTP/1.1\u001b[0m\" 200 -\n",
            "127.0.0.1 - - [01/Jun/2022 09:27:43] \"\u001b[37mPOST /predict HTTP/1.1\u001b[0m\" 200 -\n",
            "127.0.0.1 - - [01/Jun/2022 09:27:43] \"\u001b[37mPOST /predict HTTP/1.1\u001b[0m\" 200 -\n",
            "127.0.0.1 - - [01/Jun/2022 09:27:43] \"\u001b[37mPOST /predict HTTP/1.1\u001b[0m\" 200 -\n",
            "127.0.0.1 - - [01/Jun/2022 09:27:44] \"\u001b[37mPOST /predict HTTP/1.1\u001b[0m\" 200 -\n",
            "127.0.0.1 - - [01/Jun/2022 09:27:44] \"\u001b[37mPOST /predict HTTP/1.1\u001b[0m\" 200 -\n",
            "127.0.0.1 - - [01/Jun/2022 09:27:45] \"\u001b[37mPOST /predict HTTP/1.1\u001b[0m\" 200 -\n",
            "127.0.0.1 - - [01/Jun/2022 09:27:45] \"\u001b[37mPOST /predict HTTP/1.1\u001b[0m\" 200 -\n",
            "127.0.0.1 - - [01/Jun/2022 09:27:45] \"\u001b[37mPOST /predict HTTP/1.1\u001b[0m\" 200 -\n",
            "127.0.0.1 - - [01/Jun/2022 09:27:46] \"\u001b[37mPOST /predict HTTP/1.1\u001b[0m\" 200 -\n",
            "127.0.0.1 - - [01/Jun/2022 09:27:46] \"\u001b[37mPOST /predict HTTP/1.1\u001b[0m\" 200 -\n",
            "127.0.0.1 - - [01/Jun/2022 09:27:46] \"\u001b[37mPOST /predict HTTP/1.1\u001b[0m\" 200 -\n",
            "127.0.0.1 - - [01/Jun/2022 09:27:47] \"\u001b[37mPOST /predict HTTP/1.1\u001b[0m\" 200 -\n"
          ]
        }
      ],
      "source": [
        "# Обработчики и запуск Flask\n",
        "app = Flask(__name__)\n",
        "run_with_ngrok(app)  # Start ngrok when app is run\n",
        "\n",
        "\n",
        "@app.route(\"/\", methods=[\"GET\"])\n",
        "def general():\n",
        "    return \"Welcome to prediction process\"\n",
        "\n",
        "\n",
        "@app.route('/predict', methods=['POST'])\n",
        "def predict():\n",
        "    data = {\"success\": False}\n",
        "\n",
        "    # ensure an image was properly uploaded to our endpoint\n",
        "    ID, gender, age, height, weight, waist, eyesight_left, eyesight_right, hearing_left, hearing_right, systolic, relaxation, fasting_blood_sugar, cholesterol, triglyceride, hdl, ldl, hemoglobin, urine_protein, serum_creatinine, ast, alt, gtp, oral, dental_caries, tartar = \"\", \"\", \"\", \"\", \"\", \"\", \"\", \"\", \"\", \"\", \"\", \"\", \"\", \"\", \"\", \"\", \"\", \"\", \"\", \"\", \"\", \"\", \"\", \"\", \"\", \"\"\n",
        "\n",
        "    request_json = request.get_json()\n",
        "\n",
        "    if request_json[\"ID\"]:\n",
        "        ID = request_json['ID']\n",
        "    \n",
        "    if request_json[\"gender\"]:\n",
        "        gender = request_json['gender']\n",
        "   \n",
        "    if request_json[\"age\"]:\n",
        "        age = request_json['age']\n",
        "                \n",
        "    if request_json[\"height\"]:\n",
        "        height = request_json['height']\n",
        "\n",
        "    if request_json[\"weight\"]:\n",
        "        weight = request_json['weight']\n",
        "\n",
        "    if request_json[\"waist\"]:\n",
        "        waist = request_json['waist']\n",
        "\n",
        "    if request_json[\"eyesight_left\"]:\n",
        "        eyesight_left = request_json['eyesight_left']\n",
        "\n",
        "    if request_json[\"eyesight_right\"]:\n",
        "        eyesight_right = request_json['eyesight_right']\n",
        "\n",
        "    if request_json[\"hearing_left\"]:\n",
        "        hearing_left = request_json['hearing_left']\n",
        "\n",
        "    if request_json[\"hearing_right\"]:\n",
        "        hearing_right = request_json['hearing_right']\n",
        "\n",
        "    if request_json[\"systolic\"]:\n",
        "        systolic = request_json['systolic']\n",
        "\n",
        "    if request_json[\"relaxation\"]:\n",
        "        relaxation = request_json['relaxation']\n",
        "\n",
        "    if request_json[\"fasting_blood_sugar\"]:\n",
        "        fasting_blood_sugar = request_json['fasting_blood_sugar']\n",
        "\n",
        "    if request_json[\"cholesterol\"]:\n",
        "        cholesterol = request_json['cholesterol']\n",
        "\n",
        "    if request_json[\"triglyceride\"]:\n",
        "        triglyceride = request_json['triglyceride']\n",
        "\n",
        "    if request_json[\"hdl\"]:\n",
        "        hdl = request_json['hdl']\n",
        "\n",
        "    if request_json[\"ldl\"]:\n",
        "        ldl = request_json['ldl']\n",
        "\n",
        "    if request_json[\"hemoglobin\"]:\n",
        "        hemoglobin = request_json['hemoglobin']\n",
        "\n",
        "    if request_json[\"urine_protein\"]:\n",
        "        urine_protein = request_json['urine_protein']\n",
        "\n",
        "    if request_json[\"serum_creatinine\"]:\n",
        "        serum_creatinine = request_json['serum_creatinine']\n",
        "\n",
        "    if request_json[\"ast\"]:\n",
        "        ast = request_json['ast']\n",
        "\n",
        "    if request_json[\"alt\"]:\n",
        "        alt = request_json['alt']                \n",
        "\n",
        "    if request_json[\"gtp\"]:\n",
        "        gtp = request_json['gtp']       \n",
        "\n",
        "    if request_json[\"oral\"]:\n",
        "        oral = request_json['oral']\n",
        "\n",
        "    if request_json[\"tartar\"]:\n",
        "        tartar = request_json['tartar']\n",
        "\n",
        "    if request_json[\"dental_caries\"]:\n",
        "        dental_caries = request_json['dental_caries'] \n",
        "    \n",
        "    df = pd.DataFrame({\"gender\": [gender],\n",
        "                                              \"age\": [age],\n",
        "                                              \"height\": [height],\n",
        "                                              \"weight\": [weight],\n",
        "                                              \"waist\": [waist],\n",
        "                                              \"eyesight_left\": [eyesight_left],\n",
        "                                              \"eyesight_right\": [eyesight_right],\n",
        "                                              \"hearing_left\": [hearing_left],\n",
        "                                              \"hearing_right\": [hearing_right],\n",
        "                                              \"systolic\": [systolic],\n",
        "                                              \"relaxation\": [relaxation],\n",
        "                                              \"fasting_blood_sugar\": [fasting_blood_sugar],\n",
        "                                              \"cholesterol\": [cholesterol],\n",
        "                                              \"triglyceride\": [triglyceride],\n",
        "                                              \"hdl\": [hdl],\n",
        "                                              \"ldl\": [ldl],\n",
        "                                              \"hemoglobin\": [hemoglobin],\n",
        "                                              \"urine_protein\": [urine_protein],\n",
        "                                              \"serum_creatinine\": [serum_creatinine],\n",
        "                                              \"ast\": [ast],\n",
        "                                              \"alt\": [alt],\n",
        "                                              \"gtp\": [gtp],\n",
        "                                              \"oral\": [oral],\n",
        "                                              \"tartar\": [tartar],\n",
        "                                              \"dental_caries\": [dental_caries]})\n",
        "    preds = model.predict_proba(df)\n",
        "    \n",
        "\n",
        "    data[\"predictions\"] = preds[:, 1][0]\n",
        "    data[\"ID\"] = ID\n",
        "        # indicate that the request was a success\n",
        "    data[\"success\"] = True\n",
        "    # print('OK')\n",
        "\n",
        "        # return the data dictionary as a JSON response\n",
        "    return jsonify(data)\n",
        "\n",
        "        # return the data dictionary as a JSON response\n",
        "    return jsonify(data)\n",
        "\n",
        "\n",
        "if __name__ == '__main__':\n",
        "    app.run()"
      ]
    },
    {
      "cell_type": "markdown",
      "metadata": {
        "id": "rqH-GQWlCkH_"
      },
      "source": [
        "Тестовый клиент"
      ]
    },
    {
      "cell_type": "code",
      "execution_count": 74,
      "metadata": {
        "id": "kozqS2ytCnR1"
      },
      "outputs": [],
      "source": [
        "# Пример данных\n",
        "id, gender, age, height, weight, waist, eyesight_left, eyesight_right, hearing_left, hearing_right, systolic, relaxation, fasting_blood_sugar, cholesterol, triglyceride, hdl, ldl, hemoglobin, urine_protein, serum_creatinine, ast, alt, gtp, oral, dental_caries, tartar = (1,\"F\",40,155,60,81.3,1.2,1,1,1,114,73,94,215,82,73,126,12.9,1,0.7,18,19,27,\"Y\",0,\"Y\")\n",
        "body = {\n",
        "        'ID': id,\n",
        "        'gender': gender,\n",
        "        'age': age,\n",
        "        'height': height,\n",
        "        'weight': weight,\n",
        "        'waist': waist,\n",
        "        'eyesight_left': eyesight_left,\n",
        "        'eyesight_right': eyesight_right,\n",
        "        'hearing_left': hearing_left,\n",
        "        'hearing_right': hearing_right,\n",
        "        'systolic': systolic,\n",
        "        'relaxation': relaxation,\n",
        "        'fasting_blood_sugar': fasting_blood_sugar,\n",
        "        'cholesterol': cholesterol,\n",
        "        'triglyceride': triglyceride,\n",
        "        'hdl': hdl,\n",
        "        'ldl': ldl,\n",
        "        'hemoglobin': hemoglobin,\n",
        "        'urine_protein': urine_protein,\n",
        "        'serum_creatinine': serum_creatinine,\n",
        "        'ast': ast,\n",
        "        'alt': alt,\n",
        "        'gtp': gtp,\n",
        "        'oral': oral,\n",
        "        'dental_caries': dental_caries,\n",
        "        'tartar': tartar\n",
        "      }"
      ]
    },
    {
      "cell_type": "code",
      "execution_count": 75,
      "metadata": {
        "id": "NjCAV9UGCq50",
        "colab": {
          "base_uri": "https://localhost:8080/"
        },
        "outputId": "1f5e098e-dd9a-4f45-99bf-359fa4e67e9f"
      },
      "outputs": [
        {
          "output_type": "execute_result",
          "data": {
            "text/plain": [
              "{'ID': 1, 'predictions': 0.05, 'success': True}"
            ]
          },
          "metadata": {},
          "execution_count": 75
        }
      ],
      "source": [
        "with app.test_client() as t:\n",
        "    response = t.post('/predict', json=body)\n",
        "    json_data = response.get_json()\n",
        "\n",
        "json_data"
      ]
    }
  ],
  "metadata": {
    "colab": {
      "collapsed_sections": [],
      "name": "BackEnd.ipynb",
      "provenance": []
    },
    "kernelspec": {
      "display_name": "Python 3",
      "name": "python3"
    },
    "language_info": {
      "name": "python"
    }
  },
  "nbformat": 4,
  "nbformat_minor": 0
}